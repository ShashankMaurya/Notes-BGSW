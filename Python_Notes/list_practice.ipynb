{
 "cells": [
  {
   "cell_type": "code",
   "execution_count": 1,
   "id": "176a0cb6",
   "metadata": {},
   "outputs": [
    {
     "name": "stdout",
     "output_type": "stream",
     "text": [
      "1. cat\n",
      "2. dog\n",
      "3. mouse\n",
      "4. tiger\n",
      "5. lion\n",
      "6. racoon\n",
      "7. AyushRaj\n"
     ]
    }
   ],
   "source": [
    "list_0 = [\"cat\", \"dog\", \"mouse\", \"tiger\", \"lion\", \"racoon\", \"AyushRaj\"]\n",
    "for i, j in enumerate(list_0):\n",
    "    print(\"{}. {}\".format(i + 1, j))"
   ]
  },
  {
   "cell_type": "code",
   "execution_count": 2,
   "id": "b837d29c",
   "metadata": {},
   "outputs": [
    {
     "name": "stdout",
     "output_type": "stream",
     "text": [
      "['The', 'Quick', 'Brown', 'Fox', 'Jumps', 'Over', 'the', 'Lazy', 'Dog']\n"
     ]
    }
   ],
   "source": [
    "s = \"The Quick Brown Fox Jumps Over the Lazy Dog\"\n",
    "print(s.split())"
   ]
  },
  {
   "cell_type": "code",
   "execution_count": 4,
   "id": "29fbad67",
   "metadata": {},
   "outputs": [],
   "source": [
    "list_0.sort()"
   ]
  },
  {
   "cell_type": "code",
   "execution_count": 5,
   "id": "d7b269f9",
   "metadata": {},
   "outputs": [
    {
     "name": "stdout",
     "output_type": "stream",
     "text": [
      "['AyushRaj', 'cat', 'dog', 'lion', 'mouse', 'racoon', 'tiger']\n"
     ]
    }
   ],
   "source": [
    "print(list_0)"
   ]
  },
  {
   "cell_type": "code",
   "execution_count": 9,
   "id": "bdf2d616",
   "metadata": {},
   "outputs": [
    {
     "name": "stdout",
     "output_type": "stream",
     "text": [
      "['Brown', 'Dog', 'Fox', 'Jumps', 'Lazy', 'Over', 'Quick', 'The', 'the']\n"
     ]
    }
   ],
   "source": [
    "print(sorted(s.split()))"
   ]
  },
  {
   "cell_type": "code",
   "execution_count": 16,
   "id": "42cbcdb1",
   "metadata": {},
   "outputs": [
    {
     "data": {
      "text/plain": [
       "['the', 'The', 'Quick', 'Over', 'Lazy', 'Jumps', 'Fox', 'Dog', 'Brown']"
      ]
     },
     "execution_count": 16,
     "metadata": {},
     "output_type": "execute_result"
    }
   ],
   "source": [
    "s.sort(reverse=True)\n",
    "s"
   ]
  },
  {
   "cell_type": "code",
   "execution_count": null,
   "id": "e461ce13",
   "metadata": {},
   "outputs": [],
   "source": []
  }
 ],
 "metadata": {
  "kernelspec": {
   "display_name": "Python 3 (ipykernel)",
   "language": "python",
   "name": "python3"
  },
  "language_info": {
   "codemirror_mode": {
    "name": "ipython",
    "version": 3
   },
   "file_extension": ".py",
   "mimetype": "text/x-python",
   "name": "python",
   "nbconvert_exporter": "python",
   "pygments_lexer": "ipython3",
   "version": "3.9.7"
  }
 },
 "nbformat": 4,
 "nbformat_minor": 5
}
