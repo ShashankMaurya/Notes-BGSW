{
 "cells": [
  {
   "cell_type": "code",
   "execution_count": 4,
   "id": "b9cab859",
   "metadata": {},
   "outputs": [
    {
     "name": "stdout",
     "output_type": "stream",
     "text": [
      "['a' 'b' 'c' 'd']\n",
      "0    a\n",
      "1    b\n",
      "2    c\n",
      "3    d\n",
      "dtype: object\n"
     ]
    }
   ],
   "source": [
    "import numpy as np\n",
    "import pandas as pd\n",
    "data=np.array(['a','b','c','d'])\n",
    "print(data)\n",
    "s=pd.Series(data)\n",
    "print(s)"
   ]
  },
  {
   "cell_type": "code",
   "execution_count": 5,
   "id": "24fb4ef1",
   "metadata": {},
   "outputs": [
    {
     "name": "stdout",
     "output_type": "stream",
     "text": [
      "['a' 'b' 'c' 'd']\n",
      "2        a\n",
      "4        b\n",
      "hello    c\n",
      "45       d\n",
      "dtype: object\n"
     ]
    }
   ],
   "source": [
    "import numpy as np\n",
    "import pandas as pd\n",
    "data=np.array(['a','b','c','d'])\n",
    "print(data)\n",
    "s=pd.Series(data,index=[2,4,'hello',45])\n",
    "print(s)"
   ]
  },
  {
   "cell_type": "code",
   "execution_count": 6,
   "id": "543afa8f",
   "metadata": {},
   "outputs": [
    {
     "name": "stdout",
     "output_type": "stream",
     "text": [
      "          0\n",
      "0       USA\n",
      "1     COVID\n",
      "2     CASES\n",
      "3       ARE\n",
      "4  2.34 MIL\n",
      "5       AND\n",
      "6  COUNTING\n"
     ]
    }
   ],
   "source": [
    "lis=['USA', 'COVID', 'CASES', 'ARE', '2.34 MIL', 'AND', 'COUNTING']\n",
    "df=pd.DataFrame(lis)\n",
    "print(df)"
   ]
  },
  {
   "cell_type": "code",
   "execution_count": 7,
   "id": "35bfe6bd",
   "metadata": {},
   "outputs": [
    {
     "name": "stdout",
     "output_type": "stream",
     "text": [
      "          0\n",
      "1       USA\n",
      "2     COVID\n",
      "3     CASES\n",
      "4       ARE\n",
      "5  2.34 MIL\n",
      "6       AND\n",
      "7  COUNTING\n"
     ]
    }
   ],
   "source": [
    "lis=['USA', 'COVID', 'CASES', 'ARE', '2.34 MIL', 'AND', 'COUNTING']\n",
    "df=pd.DataFrame(lis, index=[1,2,3,4,5,6,7])\n",
    "print(df)"
   ]
  },
  {
   "cell_type": "code",
   "execution_count": 8,
   "id": "b0023ef5",
   "metadata": {},
   "outputs": [
    {
     "name": "stdout",
     "output_type": "stream",
     "text": [
      "   NAME  Age GENDER\n",
      "0   TOM   20      M\n",
      "1   NIK   21      M\n",
      "2  ANNE   32      F\n",
      "3  JACK   43      M\n"
     ]
    }
   ],
   "source": [
    "data = {'NAME': ['TOM', 'NIK', 'ANNE', 'JACK'],\n",
    "       'Age': [20,21,32,43],\n",
    "       'GENDER': ['M','M','F','M']}\n",
    "df=pd.DataFrame(data)\n",
    "print(df)"
   ]
  },
  {
   "cell_type": "code",
   "execution_count": 9,
   "id": "b6e68d2f",
   "metadata": {},
   "outputs": [
    {
     "name": "stdout",
     "output_type": "stream",
     "text": [
      "0    20\n",
      "1    21\n",
      "2    32\n",
      "3    43\n",
      "Name: Age, dtype: int64\n"
     ]
    }
   ],
   "source": [
    "print(df['Age'])"
   ]
  },
  {
   "cell_type": "code",
   "execution_count": 14,
   "id": "d6a639f7",
   "metadata": {},
   "outputs": [
    {
     "name": "stdout",
     "output_type": "stream",
     "text": [
      "  NAME  Age GENDER\n",
      "0  TOM   20      M\n",
      "1  NIK   21      M\n"
     ]
    }
   ],
   "source": [
    "print(df[(df['Age']<30) & (df['GENDER'] == 'M')])"
   ]
  },
  {
   "cell_type": "code",
   "execution_count": null,
   "id": "0b7c6f4f",
   "metadata": {},
   "outputs": [],
   "source": [
    "df['Column_name'].fillna('Replacement_Value', inplace=True)  # TODO: this replaces the NaN values with Replacement_Value"
   ]
  },
  {
   "cell_type": "code",
   "execution_count": null,
   "id": "a16f9f5c",
   "metadata": {},
   "outputs": [],
   "source": []
  }
 ],
 "metadata": {
  "kernelspec": {
   "display_name": "Python 3 (ipykernel)",
   "language": "python",
   "name": "python3"
  },
  "language_info": {
   "codemirror_mode": {
    "name": "ipython",
    "version": 3
   },
   "file_extension": ".py",
   "mimetype": "text/x-python",
   "name": "python",
   "nbconvert_exporter": "python",
   "pygments_lexer": "ipython3",
   "version": "3.9.7"
  }
 },
 "nbformat": 4,
 "nbformat_minor": 5
}
