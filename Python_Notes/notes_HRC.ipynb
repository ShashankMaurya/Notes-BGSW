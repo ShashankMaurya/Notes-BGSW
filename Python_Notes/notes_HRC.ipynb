{
 "cells": [
  {
   "cell_type": "code",
   "execution_count": 4,
   "id": "7ed7ad6b",
   "metadata": {},
   "outputs": [
    {
     "name": "stdout",
     "output_type": "stream",
     "text": [
      "[7, 9, 11, 13, 15]\n"
     ]
    }
   ],
   "source": [
    "def add(x,y):\n",
    "    return x + y\n",
    "\n",
    "x=[1,2,3,4,5]\n",
    "b=[6,7,8,9,10]\n",
    "y = list(map(add, x,b))\n",
    "print(y)"
   ]
  },
  {
   "cell_type": "code",
   "execution_count": 5,
   "id": "60648990",
   "metadata": {},
   "outputs": [
    {
     "name": "stdout",
     "output_type": "stream",
     "text": [
      "[2, 4, 6, 8, 10, 12, 14, 16, 18, 20]\n"
     ]
    }
   ],
   "source": [
    "my_list = [1, 2, 3, 4, 5, 6, 7, 8, 9, 10]\n",
    "new1_list = list(map(lambda x: x * 2, my_list))\n",
    "print(new1_list)"
   ]
  },
  {
   "cell_type": "code",
   "execution_count": 6,
   "id": "00da21d6",
   "metadata": {},
   "outputs": [
    {
     "name": "stdout",
     "output_type": "stream",
     "text": [
      "[2, 4, 6, 8, 10]\n"
     ]
    }
   ],
   "source": [
    "new_list = list(filter(lambda x: (x % 2 == 0), my_list))\n",
    "print(new_list)"
   ]
  },
  {
   "cell_type": "code",
   "execution_count": 9,
   "id": "4ffd625d",
   "metadata": {},
   "outputs": [
    {
     "name": "stdout",
     "output_type": "stream",
     "text": [
      "[0, 2, 4, 6, 8, 10]\n"
     ]
    }
   ],
   "source": [
    "n = 10\n",
    "y = [x for x in range(0, n + 1) if x % 2 == 0]\n",
    "print(y)"
   ]
  },
  {
   "cell_type": "code",
   "execution_count": 12,
   "id": "846ea4b0",
   "metadata": {},
   "outputs": [
    {
     "name": "stdout",
     "output_type": "stream",
     "text": [
      "5 10 15 20 25 30 "
     ]
    }
   ],
   "source": [
    "import itertools\n",
    "\n",
    "for i in itertools.count(5, 5):\n",
    "    if i == 35:\n",
    "        break\n",
    "    else:\n",
    "        print(i, end=' ')"
   ]
  },
  {
   "cell_type": "code",
   "execution_count": 2,
   "id": "a0417c2f",
   "metadata": {},
   "outputs": [
    {
     "name": "stdout",
     "output_type": "stream",
     "text": [
      "('orange', 'mangho', 'cat')\n",
      "<class 'tuple'>\n"
     ]
    }
   ],
   "source": [
    "def fun(*args): \n",
    "    print(args)\n",
    "    print(type(args))\n",
    "\n",
    "fun('orange','mangho','cat')"
   ]
  },
  {
   "cell_type": "code",
   "execution_count": 4,
   "id": "9cb49e69",
   "metadata": {},
   "outputs": [
    {
     "name": "stdout",
     "output_type": "stream",
     "text": [
      "{'d': 'hello', 'k': 45}\n",
      "<class 'dict'>\n"
     ]
    }
   ],
   "source": [
    "def fun(**args):\n",
    "    print(args)\n",
    "    print(type(args))\n",
    "\n",
    "fun(d='hello', k=45)"
   ]
  },
  {
   "cell_type": "code",
   "execution_count": 5,
   "id": "49561e6c",
   "metadata": {},
   "outputs": [
    {
     "name": "stdout",
     "output_type": "stream",
     "text": [
      "hello world. this is called doc string\n"
     ]
    }
   ],
   "source": [
    "def square(n):\n",
    "    \"\"\"hello world. this is called doc string\"\"\"\n",
    "    print(n ** 3)\n",
    "\n",
    "\n",
    "print(square.__doc__)"
   ]
  },
  {
   "cell_type": "code",
   "execution_count": 2,
   "id": "9f602f78",
   "metadata": {},
   "outputs": [
    {
     "name": "stdout",
     "output_type": "stream",
     "text": [
      "<class 'numpy.ndarray'>\n",
      "int32\n"
     ]
    }
   ],
   "source": [
    "import numpy as np\n",
    "arr=np.array([1])\n",
    "print(type(arr)) \n",
    "print(arr.dtype)"
   ]
  },
  {
   "cell_type": "code",
   "execution_count": 3,
   "id": "e3daeeb2",
   "metadata": {},
   "outputs": [
    {
     "name": "stdout",
     "output_type": "stream",
     "text": [
      "['odd' 'Even' 'odd' 'Even' 'odd' 'Even' 'odd' 'Even' 'odd' 'Even' 'odd'\n",
      " 'Even' 'odd' 'Even' 'odd' 'Even' 'odd' 'Even' 'odd']\n"
     ]
    }
   ],
   "source": [
    "arr=np.arange(1,20)\n",
    "print(np.where(arr%2==0,'Even','odd'))"
   ]
  },
  {
   "cell_type": "code",
   "execution_count": 6,
   "id": "9b807dee",
   "metadata": {},
   "outputs": [
    {
     "name": "stdout",
     "output_type": "stream",
     "text": [
      "[0 1 2 3 4 5 6 7 8 9]\n",
      "[1 7 4 4 3 3 3 3 2 2]\n",
      "{0: 1, 1: 7, 2: 4, 3: 4, 4: 3, 5: 3, 6: 3, 7: 3, 8: 2, 9: 2}\n"
     ]
    }
   ],
   "source": [
    "import numpy as np\n",
    "\n",
    "a=np.array([1,3,4,2,1,1,3,2,1,6,7,8,9,0,1,2,1,1,3,5,4,4,5,3,2,6,7,8,9,5,7,6])\n",
    "unique, counts=np.unique(a, return_counts=True)\n",
    "d=dict(zip(unique, counts))\n",
    "print(unique)\n",
    "print(counts)\n",
    "print(d)"
   ]
  },
  {
   "cell_type": "code",
   "execution_count": 6,
   "id": "14acba8f",
   "metadata": {},
   "outputs": [
    {
     "name": "stdout",
     "output_type": "stream",
     "text": [
      "[7.]\n"
     ]
    }
   ],
   "source": [
    "import numpy as np\n",
    "arr=np.linspace(7,10,1)\n",
    "print(arr)"
   ]
  },
  {
   "cell_type": "code",
   "execution_count": null,
   "id": "bb6f0255",
   "metadata": {},
   "outputs": [],
   "source": []
  }
 ],
 "metadata": {
  "kernelspec": {
   "display_name": "Python 3 (ipykernel)",
   "language": "python",
   "name": "python3"
  },
  "language_info": {
   "codemirror_mode": {
    "name": "ipython",
    "version": 3
   },
   "file_extension": ".py",
   "mimetype": "text/x-python",
   "name": "python",
   "nbconvert_exporter": "python",
   "pygments_lexer": "ipython3",
   "version": "3.9.7"
  }
 },
 "nbformat": 4,
 "nbformat_minor": 5
}
